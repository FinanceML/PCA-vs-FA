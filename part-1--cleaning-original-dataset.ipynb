{
 "cells": [
  {
   "cell_type": "code",
   "execution_count": 3,
   "metadata": {},
   "outputs": [],
   "source": [
    "import pandas as pd"
   ]
  },
  {
   "cell_type": "code",
   "execution_count": 36,
   "metadata": {},
   "outputs": [],
   "source": [
    "ds_orig = pd.read_csv('prices_by_symbols.csv', index_col=\"date\")\n",
    "ds = ds_orig"
   ]
  },
  {
   "cell_type": "code",
   "execution_count": 44,
   "metadata": {},
   "outputs": [
    {
     "name": "stdout",
     "output_type": "stream",
     "text": [
      "Missing values per column:\n",
      "A       0\n",
      "AAL     0\n",
      "AAP     0\n",
      "AAPL    0\n",
      "ABC     0\n",
      "       ..\n",
      "XRX     0\n",
      "YHOO    0\n",
      "YUM     0\n",
      "ZBH     0\n",
      "ZION    0\n",
      "Length: 470, dtype: int64\n",
      "{'A': 0, 'AAL': 0, 'AAP': 0, 'AAPL': 0, 'ABC': 0, 'ABT': 0, 'ACN': 0, 'ADBE': 0, 'ADI': 0, 'ADM': 0, 'ADP': 0, 'ADS': 0, 'ADSK': 0, 'AEE': 0, 'AEP': 0, 'AES': 0, 'AET': 0, 'AFL': 0, 'AGN': 0, 'AIG': 0, 'AIV': 0, 'AIZ': 0, 'AJG': 0, 'AKAM': 0, 'ALB': 0, 'ALK': 0, 'ALL': 0, 'ALXN': 0, 'AMAT': 0, 'AME': 0, 'AMG': 0, 'AMGN': 0, 'AMP': 0, 'AMT': 0, 'AMZN': 0, 'AN': 0, 'ANTM': 0, 'AON': 0, 'APA': 0, 'APC': 0, 'APD': 0, 'APH': 0, 'ARNC': 0, 'ATVI': 0, 'AVB': 0, 'AVGO': 0, 'AVY': 0, 'AWK': 0, 'AXP': 0, 'AYI': 0, 'AZO': 0, 'BA': 0, 'BAC': 0, 'BAX': 0, 'BBBY': 0, 'BBT': 0, 'BBY': 0, 'BCR': 0, 'BDX': 0, 'BEN': 0, 'BHI': 0, 'BIIB': 0, 'BK': 0, 'BLK': 0, 'BLL': 0, 'BMY': 0, 'BSX': 0, 'BWA': 0, 'BXP': 0, 'C': 0, 'CA': 0, 'CAG': 0, 'CAH': 0, 'CAT': 0, 'CB': 0, 'CBG': 0, 'CBS': 0, 'CCI': 0, 'CCL': 0, 'CELG': 0, 'CERN': 0, 'CF': 0, 'CHD': 0, 'CHK': 0, 'CHRW': 0, 'CHTR': 0, 'CI': 0, 'CINF': 0, 'CL': 0, 'CLX': 0, 'CMA': 0, 'CMCSA': 0, 'CME': 0, 'CMG': 0, 'CMI': 0, 'CMS': 0, 'CNC': 0, 'CNP': 0, 'COF': 0, 'COG': 0, 'COH': 0, 'COL': 0, 'COO': 0, 'COP': 0, 'COST': 0, 'CPB': 0, 'CRM': 0, 'CSCO': 0, 'CSX': 0, 'CTAS': 0, 'CTL': 0, 'CTSH': 0, 'CTXS': 0, 'CVS': 0, 'CVX': 0, 'CXO': 0, 'D': 0, 'DAL': 0, 'DD': 0, 'DE': 0, 'DFS': 0, 'DG': 0, 'DGX': 0, 'DHI': 0, 'DHR': 0, 'DIS': 0, 'DISCA': 0, 'DISCK': 0, 'DLR': 0, 'DLTR': 0, 'DNB': 0, 'DOV': 0, 'DOW': 0, 'DPS': 0, 'DRI': 0, 'DTE': 0, 'DUK': 0, 'DVA': 0, 'DVN': 0, 'EA': 0, 'EBAY': 0, 'ECL': 0, 'ED': 0, 'EFX': 0, 'EIX': 0, 'EL': 0, 'EMN': 0, 'EMR': 0, 'ENDP': 0, 'EOG': 0, 'EQIX': 0, 'EQR': 0, 'EQT': 0, 'ES': 0, 'ESRX': 0, 'ESS': 0, 'ETFC': 0, 'ETN': 0, 'ETR': 0, 'EW': 0, 'EXC': 0, 'EXPD': 0, 'EXPE': 0, 'EXR': 0, 'F': 0, 'FAST': 0, 'FCX': 0, 'FDX': 0, 'FE': 0, 'FFIV': 0, 'FIS': 0, 'FISV': 0, 'FITB': 0, 'FL': 0, 'FLIR': 0, 'FLR': 0, 'FLS': 0, 'FMC': 0, 'FOX': 0, 'FOXA': 0, 'FRT': 0, 'FSLR': 0, 'FTI': 0, 'FTR': 0, 'GD': 0, 'GE': 0, 'GGP': 0, 'GILD': 0, 'GIS': 0, 'GLW': 0, 'GM': 0, 'GOOG': 0, 'GOOGL': 0, 'GPC': 0, 'GPN': 0, 'GPS': 0, 'GRMN': 0, 'GS': 0, 'GT': 0, 'GWW': 0, 'HAL': 0, 'HAR': 0, 'HAS': 0, 'HBAN': 0, 'HBI': 0, 'HCN': 0, 'HCP': 0, 'HD': 0, 'HES': 0, 'HIG': 0, 'HOG': 0, 'HOLX': 0, 'HON': 0, 'HP': 0, 'HPQ': 0, 'HRB': 0, 'HRL': 0, 'HRS': 0, 'HSIC': 0, 'HST': 0, 'HSY': 0, 'HUM': 0, 'IBM': 0, 'ICE': 0, 'IDXX': 0, 'IFF': 0, 'ILMN': 0, 'INTC': 0, 'INTU': 0, 'IP': 0, 'IPG': 0, 'IR': 0, 'IRM': 0, 'ISRG': 0, 'ITW': 0, 'IVZ': 0, 'JBHT': 0, 'JCI': 0, 'JEC': 0, 'JNJ': 0, 'JNPR': 0, 'JPM': 0, 'JWN': 0, 'K': 0, 'KEY': 0, 'KIM': 0, 'KLAC': 0, 'KMB': 0, 'KMX': 0, 'KO': 0, 'KR': 0, 'KSS': 0, 'KSU': 0, 'L': 0, 'LB': 0, 'LEG': 0, 'LEN': 0, 'LH': 0, 'LKQ': 0, 'LLL': 0, 'LLTC': 0, 'LLY': 0, 'LMT': 0, 'LNC': 0, 'LNT': 0, 'LOW': 0, 'LRCX': 0, 'LUK': 0, 'LUV': 0, 'LVLT': 0, 'LYB': 0, 'M': 0, 'MA': 0, 'MAA': 0, 'MAC': 0, 'MAR': 0, 'MAS': 0, 'MAT': 0, 'MCD': 0, 'MCHP': 0, 'MCK': 0, 'MCO': 0, 'MDLZ': 0, 'MDT': 0, 'MET': 0, 'MHK': 0, 'MJN': 0, 'MKC': 0, 'MLM': 0, 'MMC': 0, 'MMM': 0, 'MNST': 0, 'MO': 0, 'MON': 0, 'MOS': 0, 'MRK': 0, 'MRO': 0, 'MSFT': 0, 'MSI': 0, 'MTB': 0, 'MTD': 0, 'MU': 0, 'MUR': 0, 'MYL': 0, 'NBL': 0, 'NDAQ': 0, 'NEE': 0, 'NEM': 0, 'NFLX': 0, 'NFX': 0, 'NI': 0, 'NKE': 0, 'NOC': 0, 'NOV': 0, 'NRG': 0, 'NSC': 0, 'NTAP': 0, 'NTRS': 0, 'NUE': 0, 'NVDA': 0, 'NWL': 0, 'O': 0, 'OKE': 0, 'OMC': 0, 'ORCL': 0, 'ORLY': 0, 'OXY': 0, 'PAYX': 0, 'PBCT': 0, 'PBI': 0, 'PCAR': 0, 'PCG': 0, 'PCLN': 0, 'PDCO': 0, 'PEG': 0, 'PEP': 0, 'PFE': 0, 'PFG': 0, 'PG': 0, 'PGR': 0, 'PH': 0, 'PHM': 0, 'PKI': 0, 'PLD': 0, 'PM': 0, 'PNC': 0, 'PNR': 0, 'PNW': 0, 'PPG': 0, 'PPL': 0, 'PRGO': 0, 'PRU': 0, 'PSA': 0, 'PVH': 0, 'PWR': 0, 'PX': 0, 'PXD': 0, 'QCOM': 0, 'R': 0, 'RAI': 0, 'RCL': 0, 'REGN': 0, 'RF': 0, 'RHI': 0, 'RHT': 0, 'RIG': 0, 'RL': 0, 'ROK': 0, 'ROP': 0, 'ROST': 0, 'RRC': 0, 'RSG': 0, 'RTN': 0, 'SBUX': 0, 'SCG': 0, 'SCHW': 0, 'SE': 0, 'SEE': 0, 'SHW': 0, 'SIG': 0, 'SJM': 0, 'SLB': 0, 'SLG': 0, 'SNA': 0, 'SNI': 0, 'SO': 0, 'SPG': 0, 'SPGI': 0, 'SPLS': 0, 'SRCL': 0, 'SRE': 0, 'STI': 0, 'STT': 0, 'STX': 0, 'STZ': 0, 'SWK': 0, 'SWKS': 0, 'SWN': 0, 'SYK': 0, 'SYMC': 0, 'SYY': 0, 'T': 0, 'TAP': 0, 'TDC': 0, 'TEL': 0, 'TGNA': 0, 'TGT': 0, 'TIF': 0, 'TJX': 0, 'TMK': 0, 'TMO': 0, 'TROW': 0, 'TRV': 0, 'TSCO': 0, 'TSN': 0, 'TSO': 0, 'TSS': 0, 'TWX': 0, 'TXN': 0, 'TXT': 0, 'UAA': 0, 'UAL': 0, 'UDR': 0, 'UHS': 0, 'ULTA': 0, 'UNH': 0, 'UNM': 0, 'UNP': 0, 'UPS': 0, 'URBN': 0, 'URI': 0, 'USB': 0, 'UTX': 0, 'V': 0, 'VAR': 0, 'VFC': 0, 'VIAB': 0, 'VLO': 0, 'VMC': 0, 'VNO': 0, 'VRSK': 0, 'VRSN': 0, 'VRTX': 0, 'VTR': 0, 'VZ': 0, 'WAT': 0, 'WBA': 0, 'WDC': 0, 'WEC': 0, 'WFC': 0, 'WFM': 0, 'WHR': 0, 'WM': 0, 'WMB': 0, 'WMT': 0, 'WU': 0, 'WY': 0, 'WYN': 0, 'WYNN': 0, 'XEC': 0, 'XEL': 0, 'XL': 0, 'XLNX': 0, 'XOM': 0, 'XRAY': 0, 'XRX': 0, 'YHOO': 0, 'YUM': 0, 'ZBH': 0, 'ZION': 0}\n"
     ]
    },
    {
     "data": {
      "text/plain": [
       "{0}"
      ]
     },
     "execution_count": 44,
     "metadata": {},
     "output_type": "execute_result"
    }
   ],
   "source": [
    "#Create a new function:\n",
    "def num_missing(x):\n",
    "  return sum(x.isnull())\n",
    "\n",
    "#Applying per column:\n",
    "print (\"Missing values per column:\")\n",
    "print (ds.apply(num_missing, axis=0)) #axis=0 defines that function is to be applied on each column\n",
    "missing_series = ds.apply(num_missing, axis=0)\n",
    "missing_series = missing_series.to_dict()\n",
    "missing_count = [] \n",
    "\n",
    "print(missing_series)\n",
    "for key, value in missing_series.items():\n",
    "    missing_count.append(value)\n",
    "missing_count = set(missing_count)\n",
    "\n",
    "missing_count"
   ]
  },
  {
   "cell_type": "code",
   "execution_count": 45,
   "metadata": {},
   "outputs": [
    {
     "name": "stdout",
     "output_type": "stream",
     "text": [
      "[]\n"
     ]
    }
   ],
   "source": [
    "impute_keys = []\n",
    "\n",
    "for key, value in missing_series.items():\n",
    "    if value > 0:\n",
    "        if value < 700:\n",
    "           impute_keys.append(key) \n",
    "    if value > 700:   \n",
    "        try:\n",
    "            ds.drop([key], axis=1, inplace=True)\n",
    "            print('The column \"{}\" is dropped.'.format(key))\n",
    "        except:\n",
    "            pass\n",
    "     \n",
    "print(impute_keys)    \n",
    "for elem in impute_keys:\n",
    "    ds[elem].fillna((ds[elem].mean()), inplace=True)"
   ]
  },
  {
   "cell_type": "code",
   "execution_count": 46,
   "metadata": {},
   "outputs": [
    {
     "data": {
      "text/plain": [
       "{0}"
      ]
     },
     "execution_count": 46,
     "metadata": {},
     "output_type": "execute_result"
    }
   ],
   "source": [
    "missing_series = ds.apply(num_missing, axis=0)\n",
    "missing_series = missing_series.to_dict()\n",
    "missing_count = [] \n",
    "\n",
    "for key, value in missing_series.items():\n",
    "    missing_count.append(value)\n",
    "missing_count = set(missing_count)\n",
    "\n",
    "missing_count"
   ]
  },
  {
   "cell_type": "code",
   "execution_count": 47,
   "metadata": {},
   "outputs": [],
   "source": [
    "ds.to_csv('ds-cleaned.csv')"
   ]
  }
 ],
 "metadata": {
  "kernelspec": {
   "display_name": "Python 3",
   "language": "python",
   "name": "python3"
  },
  "language_info": {
   "codemirror_mode": {
    "name": "ipython",
    "version": 3
   },
   "file_extension": ".py",
   "mimetype": "text/x-python",
   "name": "python",
   "nbconvert_exporter": "python",
   "pygments_lexer": "ipython3",
   "version": "3.7.3"
  }
 },
 "nbformat": 4,
 "nbformat_minor": 2
}
